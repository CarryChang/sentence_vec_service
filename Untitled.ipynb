{
 "cells": [
  {
   "cell_type": "code",
   "execution_count": 21,
   "id": "91e0b905-3e20-43e6-93b8-2254208046ea",
   "metadata": {},
   "outputs": [],
   "source": [
    "from sentence_transformers import SentenceTransformer\n",
    "import os\n",
    "# numpy 是最快的\n",
    "import numpy as np\n",
    "\n",
    "os.environ[\"CUDA_VISIBLE_DEVICES\"] = \"0\"\n",
    "\n",
    "llm_path = 'BAAI/bge-small-zh'\n",
    "\n",
    "model = SentenceTransformer(llm_path)"
   ]
  },
  {
   "cell_type": "code",
   "execution_count": 28,
   "id": "3a36b344-f9af-41df-a687-29f44dc84421",
   "metadata": {},
   "outputs": [],
   "source": [
    "sentences = [\"问一下怎么调节动能回收\", \"电动车的能量回收怎么调节\"]\n",
    "embeddings_1 = model.encode(sentences, normalize_embeddings=True).astype('float16')"
   ]
  },
  {
   "cell_type": "code",
   "execution_count": 29,
   "id": "7f685002-2b2d-4f40-a384-1cf7667ed963",
   "metadata": {},
   "outputs": [
    {
     "data": {
      "text/plain": [
       "0.903"
      ]
     },
     "execution_count": 29,
     "metadata": {},
     "output_type": "execute_result"
    }
   ],
   "source": [
    "# 直接进行内积即可，使用 topk 即可\n",
    "np.dot(embeddings_1[0],embeddings_1[1])"
   ]
  },
  {
   "cell_type": "code",
   "execution_count": null,
   "id": "1e211f4a-dcad-43fd-a54a-858d6223a952",
   "metadata": {},
   "outputs": [],
   "source": []
  }
 ],
 "metadata": {
  "kernelspec": {
   "display_name": "Python 3 (ipykernel)",
   "language": "python",
   "name": "python3"
  },
  "language_info": {
   "codemirror_mode": {
    "name": "ipython",
    "version": 3
   },
   "file_extension": ".py",
   "mimetype": "text/x-python",
   "name": "python",
   "nbconvert_exporter": "python",
   "pygments_lexer": "ipython3",
   "version": "3.9.16"
  }
 },
 "nbformat": 4,
 "nbformat_minor": 5
}
